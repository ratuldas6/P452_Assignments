{
 "cells": [
  {
   "cell_type": "code",
   "execution_count": 1,
   "metadata": {},
   "outputs": [],
   "source": [
    "import os\n",
    "import sys\n",
    "\n",
    "sys.path.insert(1, os.getcwd().replace('\\\\Assignment_2', ''))\n",
    "\n",
    "import math\n",
    "import mylibrary\n",
    "import numpy as np\n",
    "import matplotlib.pyplot as plt\n",
    "from mpl_toolkits.mplot3d import Axes3D"
   ]
  },
  {
   "cell_type": "markdown",
   "metadata": {},
   "source": [
    "# Question 1"
   ]
  },
  {
   "cell_type": "code",
   "execution_count": 4,
   "metadata": {},
   "outputs": [],
   "source": [
    "C = []\n",
    "b = []\n",
    "\n",
    "# Calling matrices from txt files\n",
    "mat_c = open(\"matrix_1C.txt\", \"r+\")\n",
    "mat_cb = open(\"matrix_1b.txt\", \"r+\")\n",
    "\n",
    "for line in mat_c:\n",
    "    x = line.split()\n",
    "    y = []\n",
    "    for i in range(len(x)):\n",
    "        y.append(float(x[i]))\n",
    "    C.append(y)\n",
    "\n",
    "for line in mat_cb:\n",
    "    elem = line.split()\n",
    "    for i in range(len(elem)):\n",
    "        b.append(float(elem[i]))"
   ]
  },
  {
   "cell_type": "code",
   "execution_count": 5,
   "metadata": {},
   "outputs": [
    {
     "name": "stdout",
     "output_type": "stream",
     "text": [
      "Solution using Cholesky decomposition is: \n",
      "x_1 = 1.0\n",
      "x_2 = 1.0\n",
      "x_3 = 1.0\n",
      "x_4 = 1.0\n"
     ]
    }
   ],
   "source": [
    "L = mylibrary.choleskydecomp(C)\n",
    "L_T = mylibrary.transpose(L)\n",
    "cholesky_result = mylibrary.solveCholesky(L, L_T, b)\n",
    "\n",
    "print(\"Solution using Cholesky decomposition is: \")\n",
    "print(\"x_1 = \" + str(cholesky_result[0]))\n",
    "print(\"x_2 = \" + str(cholesky_result[1]))\n",
    "print(\"x_3 = \" + str(cholesky_result[2]))\n",
    "print(\"x_4 = \" + str(cholesky_result[3]))"
   ]
  },
  {
   "cell_type": "markdown",
   "metadata": {},
   "source": [
    "# Question 2"
   ]
  },
  {
   "cell_type": "code",
   "execution_count": 6,
   "metadata": {},
   "outputs": [],
   "source": [
    "C = []\n",
    "b = []\n",
    "\n",
    "# Calling matrices from txt files\n",
    "mat_c = open(\"matrix_2C.txt\", \"r+\")\n",
    "mat_cb = open(\"matrix_2b.txt\", \"r+\")\n",
    "\n",
    "for line in mat_c:\n",
    "    x = line.split()\n",
    "    y = []\n",
    "    for i in range(len(x)):\n",
    "        y.append(float(x[i]))\n",
    "    C.append(y)\n",
    "\n",
    "for line in mat_cb:\n",
    "    elem = line.split()\n",
    "    for i in range(len(elem)):\n",
    "        b.append(float(elem[i]))"
   ]
  },
  {
   "cell_type": "code",
   "execution_count": null,
   "metadata": {},
   "outputs": [],
   "source": []
  },
  {
   "cell_type": "markdown",
   "metadata": {},
   "source": [
    "# Question 3"
   ]
  },
  {
   "cell_type": "code",
   "execution_count": 7,
   "metadata": {},
   "outputs": [],
   "source": [
    "C = []\n",
    "b = []\n",
    "\n",
    "# Calling matrices from txt files\n",
    "mat_c = open(\"matrix_3C.txt\", \"r+\")\n",
    "mat_cb = open(\"matrix_3b.txt\", \"r+\")\n",
    "\n",
    "for line in mat_c:\n",
    "    x = line.split()\n",
    "    y = []\n",
    "    for i in range(len(x)):\n",
    "        y.append(float(x[i]))\n",
    "    C.append(y)\n",
    "\n",
    "for line in mat_cb:\n",
    "    elem = line.split()\n",
    "    for i in range(len(elem)):\n",
    "        b.append(float(elem[i]))"
   ]
  },
  {
   "cell_type": "code",
   "execution_count": null,
   "metadata": {},
   "outputs": [],
   "source": []
  },
  {
   "cell_type": "markdown",
   "metadata": {},
   "source": [
    "# Question 4"
   ]
  },
  {
   "cell_type": "code",
   "execution_count": null,
   "metadata": {},
   "outputs": [],
   "source": []
  }
 ],
 "metadata": {
  "kernelspec": {
   "display_name": "Python 3",
   "language": "python",
   "name": "python3"
  },
  "language_info": {
   "codemirror_mode": {
    "name": "ipython",
    "version": 3
   },
   "file_extension": ".py",
   "mimetype": "text/x-python",
   "name": "python",
   "nbconvert_exporter": "python",
   "pygments_lexer": "ipython3",
   "version": "3.11.2"
  }
 },
 "nbformat": 4,
 "nbformat_minor": 2
}
