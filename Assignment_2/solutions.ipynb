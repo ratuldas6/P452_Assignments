{
 "cells": [
  {
   "cell_type": "code",
   "execution_count": 16,
   "metadata": {},
   "outputs": [],
   "source": [
    "import os\n",
    "import sys\n",
    "\n",
    "sys.path.insert(1, os.getcwd().replace('\\\\Assignment_2', ''))\n",
    "\n",
    "import math\n",
    "import mylibrary\n",
    "import numpy as np\n",
    "import matplotlib.pyplot as plt\n",
    "from mpl_toolkits.mplot3d import Axes3D"
   ]
  },
  {
   "cell_type": "markdown",
   "metadata": {},
   "source": [
    "# Question 1"
   ]
  },
  {
   "cell_type": "code",
   "execution_count": 3,
   "metadata": {},
   "outputs": [],
   "source": [
    "C = np.array([[4.0, -1.0, 0.0, -1.0, 0.0, 0.0],\n",
    "     [-1.0, 4.0, -1.0, 0.0, -1.0, 0.0],\n",
    "     [0.0, -1.0, 4.0, 0.0, 0.0, -1.0],\n",
    "     [-1.0, 0.0, 0.0, 4.0, -1.0, 0.0],\n",
    "     [0.0, -1.0, 0.0, -1.0, 4.0, -1.0],\n",
    "     [0.0, 0.0, -1.0, 0.0, -1.0, 4.0]])\n",
    "b = np.array([2.0, 1.0, 2.0, 2.0, 1.0, 2.0])"
   ]
  },
  {
   "cell_type": "markdown",
   "metadata": {},
   "source": [
    "We check using a function if the matrix is symmetric"
   ]
  },
  {
   "cell_type": "code",
   "execution_count": 4,
   "metadata": {},
   "outputs": [
    {
     "name": "stdout",
     "output_type": "stream",
     "text": [
      "Yes, the matrix is symmetric\n"
     ]
    }
   ],
   "source": [
    "answer = mylibrary.is_symmetric(C)\n",
    "\n",
    "if answer == True:\n",
    "    print(\"Yes, the matrix is symmetric\")\n",
    "else:\n",
    "    print(\"No, matrix is not symmetric\")"
   ]
  },
  {
   "cell_type": "markdown",
   "metadata": {},
   "source": [
    "First, we shall solve using Cholesky decomposition"
   ]
  },
  {
   "cell_type": "code",
   "execution_count": 34,
   "metadata": {},
   "outputs": [
    {
     "name": "stdout",
     "output_type": "stream",
     "text": [
      "Solution using Cholesky decomposition is: \n",
      "x_1 = 1.0\n",
      "x_2 = 0.9999999999999999\n",
      "x_3 = 1.0\n",
      "x_4 = 1.0\n",
      "x_5 = 1.0\n",
      "x_6 = 1.0\n"
     ]
    }
   ],
   "source": [
    "L = mylibrary.choleskydecomp(C)\n",
    "L_T = mylibrary.transpose(L)\n",
    "cholesky_result = mylibrary.solveCholesky(L, L_T, b)\n",
    "\n",
    "print(\"Solution using Cholesky decomposition is: \")\n",
    "print(\"x_1 = \" + str(cholesky_result[0]))\n",
    "print(\"x_2 = \" + str(cholesky_result[1]))\n",
    "print(\"x_3 = \" + str(cholesky_result[2]))\n",
    "print(\"x_4 = \" + str(cholesky_result[3]))\n",
    "print(\"x_5 = \" + str(cholesky_result[4]))\n",
    "print(\"x_6 = \" + str(cholesky_result[5]))"
   ]
  },
  {
   "cell_type": "markdown",
   "metadata": {},
   "source": [
    "Now, we solve with Gauss-Seidel"
   ]
  },
  {
   "cell_type": "code",
   "execution_count": 35,
   "metadata": {},
   "outputs": [
    {
     "name": "stdout",
     "output_type": "stream",
     "text": [
      "Solution using Gauss-Seidel is: \n",
      "x_1 = 0.9999994721618015\n",
      "x_2 = 0.999999549461916\n",
      "x_3 = 0.9999998077208454\n",
      "x_4 = 0.9999996814214656\n",
      "x_5 = 0.9999997280762118\n",
      "x_6 = 0.9999996814214656\n"
     ]
    }
   ],
   "source": [
    "tol = 0.000001\n",
    "gauss_seidel_result = mylibrary.gauss_seidel(C, b, tol)\n",
    "\n",
    "print(\"Solution using Gauss-Seidel is: \")\n",
    "\n",
    "print(\"x_1 = \" + str(gauss_seidel_result[0]))\n",
    "print(\"x_2 = \" + str(gauss_seidel_result[1]))\n",
    "print(\"x_3 = \" + str(gauss_seidel_result[2]))\n",
    "print(\"x_4 = \" + str(gauss_seidel_result[3]))\n",
    "print(\"x_5 = \" + str(gauss_seidel_result[4]))\n",
    "print(\"x_6 = \" + str(gauss_seidel_result[5]))"
   ]
  },
  {
   "cell_type": "markdown",
   "metadata": {},
   "source": [
    "# Question 2"
   ]
  },
  {
   "cell_type": "code",
   "execution_count": 19,
   "metadata": {},
   "outputs": [],
   "source": [
    "C = np.array([[0., 4., 2., 0., 1.],\n",
    "              [4., 0., 4., 10., 1.],\n",
    "              [2., 5., 1., 3., 13.],\n",
    "              [11., 3., 0., 1., 2.],\n",
    "              [3., 2., 7., 1., 0.]])\n",
    "b = np.array([20, 15, 92, 51, 15])"
   ]
  },
  {
   "cell_type": "markdown",
   "metadata": {},
   "source": [
    "First, we solve the system using Gauss-Jordan elimination:"
   ]
  },
  {
   "cell_type": "code",
   "execution_count": 22,
   "metadata": {},
   "outputs": [
    {
     "name": "stdout",
     "output_type": "stream",
     "text": [
      "Solution using Gauss-Jordan elimination is: \n",
      "x_1 = 2.674602051644853\n",
      "x_2 = 3.7118853908737197\n",
      "x_3 = -0.053307392996109725\n",
      "x_4 = -0.07442518570923262\n",
      "x_5 = 5.259073222497346\n"
     ]
    }
   ],
   "source": [
    "gj_result = mylibrary.gauss_jordan(C, b)\n",
    "\n",
    "print(\"Solution using Gauss-Jordan elimination is: \")\n",
    "print(\"x_1 = \" + str(gj_result[0]))\n",
    "print(\"x_2 = \" + str(gj_result[1]))\n",
    "print(\"x_3 = \" + str(gj_result[2]))\n",
    "print(\"x_4 = \" + str(gj_result[3]))\n",
    "print(\"x_5 = \" + str(gj_result[4]))"
   ]
  },
  {
   "cell_type": "markdown",
   "metadata": {},
   "source": [
    "Now, we use LU factorisation,"
   ]
  },
  {
   "cell_type": "code",
   "execution_count": 23,
   "metadata": {},
   "outputs": [
    {
     "name": "stdout",
     "output_type": "stream",
     "text": [
      "Solution using Gauss-Jordan elimination is: \n",
      "x_1 = 2.6746020516448534\n",
      "x_2 = 3.711885390873718\n",
      "x_3 = -0.053307392996110266\n",
      "x_4 = -0.0744251857092321\n",
      "x_5 = 5.259073222497345\n"
     ]
    }
   ],
   "source": [
    "C = np.array([[0., 4., 2., 0., 1.],\n",
    "              [4., 0., 4., 10., 1.],\n",
    "              [2., 5., 1., 3., 13.],\n",
    "              [11., 3., 0., 1., 2.],\n",
    "              [3., 2., 7., 1., 0.]])\n",
    "b = np.array([20, 15, 92, 51, 15])\n",
    "\n",
    "L, U, P = mylibrary.lu_factorization(C)\n",
    "y = mylibrary.forward_substitution(L, np.dot(P, b))\n",
    "lu_result = mylibrary.backward_substitution(U, y)\n",
    "\n",
    "print(\"Solution using Gauss-Jordan elimination is: \")\n",
    "print(\"x_1 = \" + str(lu_result[0]))\n",
    "print(\"x_2 = \" + str(lu_result[1]))\n",
    "print(\"x_3 = \" + str(lu_result[2]))\n",
    "print(\"x_4 = \" + str(lu_result[3]))\n",
    "print(\"x_5 = \" + str(lu_result[4]))"
   ]
  },
  {
   "cell_type": "markdown",
   "metadata": {},
   "source": [
    "# Question 3"
   ]
  },
  {
   "cell_type": "code",
   "execution_count": 24,
   "metadata": {},
   "outputs": [],
   "source": [
    "C = np.array([[2.,  -3.,    0.,  0.,   0.,  0.],\n",
    "              [-1.,  4.,   -1.,  0.,   -1.,  0.],\n",
    "              [0.,   -1.,  4.,   0.,   0.,   -1.],\n",
    "              [0.,   0.,   0.,   2.,   -3.,  0.],\n",
    "              [0.,   -1.,  0.,   -1.,  4.,   -1.],\n",
    "              [0.,   0.,   -1.,  0.,   -1.,  4.]])\n",
    "b = np.array([-5/3, 2/3, 3, -4/3, -1/3, 5/3])"
   ]
  },
  {
   "cell_type": "code",
   "execution_count": 25,
   "metadata": {},
   "outputs": [
    {
     "name": "stdout",
     "output_type": "stream",
     "text": [
      "Solution using the Conjugate Gradient method is: \n",
      "x_1 = -0.3099064905903713\n",
      "x_2 = 0.3491048451172753\n",
      "x_3 = 1.0058007232326789\n",
      "x_4 = -0.618692666184239\n",
      "x_5 = 0.02099844460052676\n",
      "x_6 = 0.6718939918022926\n"
     ]
    }
   ],
   "source": [
    "# Entering a guess vector\n",
    "x0 = [1, 1, 1, 1, 1, 1]\n",
    "\n",
    "cg_result = mylibrary.conjugate_gradient(C, b, x0)\n",
    "\n",
    "print(\"Solution using the Conjugate Gradient method is: \")\n",
    "print(\"x_1 = \" + str(cg_result[0]))\n",
    "print(\"x_2 = \" + str(cg_result[1]))\n",
    "print(\"x_3 = \" + str(cg_result[2]))\n",
    "print(\"x_4 = \" + str(cg_result[3]))\n",
    "print(\"x_5 = \" + str(cg_result[4]))\n",
    "print(\"x_6 = \" + str(cg_result[5]))"
   ]
  },
  {
   "cell_type": "code",
   "execution_count": 26,
   "metadata": {},
   "outputs": [
    {
     "name": "stdout",
     "output_type": "stream",
     "text": [
      "The inverse of the solution matrix is:\n",
      "[2.0, -3.0, 0.0, 0.0, 0.0, 0.0]\n",
      "[-1.0, 4.0, -1.0, 0.0, -1.0, 0.0]\n",
      "[0.0, -1.0, 4.0, 0.0, 0.0, -1.0]\n",
      "[0.0, 0.0, 0.0, 2.0, -3.0, 0.0]\n",
      "[0.0, -1.0, 0.0, -1.0, 4.0, -1.0]\n",
      "[0.0, 0.0, -1.0, 0.0, -1.0, 4.0]\n",
      "i.e., the same as the coefficient matrix\n"
     ]
    }
   ],
   "source": [
    "# Checking solution using inverse\n",
    "for i in range(len(C)):\n",
    "    I_i = np.eye(len(C))[:, i]\n",
    "    i_col1 = mylibrary.conjugate_gradient(C, I_i, x0, tol=0.0001)\n",
    "    np.append(C, i_col1)\n",
    "\n",
    "A_inv_transpose = np.column_stack(C)\n",
    "A_inv = mylibrary.transpose(A_inv_transpose)\n",
    "\n",
    "print(\"The inverse of the solution matrix is:\")\n",
    "for line in A_inv:\n",
    "    print(line)\n",
    "\n",
    "print(\"i.e., the same as the coefficient matrix\")"
   ]
  },
  {
   "cell_type": "markdown",
   "metadata": {},
   "source": [
    "# Question 4"
   ]
  },
  {
   "cell_type": "code",
   "execution_count": 20,
   "metadata": {},
   "outputs": [],
   "source": [
    "def mat_A_ij(x):\n",
    "    m = 0.2\n",
    "    N = len(x)\n",
    "    delta = 1.0 / N\n",
    "    result = np.zeros_like(x)\n",
    "    for i in range(N):\n",
    "        result[i] += (delta + m) * x[i]\n",
    "        result[i] -= 2 * delta * x[i]\n",
    "        result[i] += delta * x[(i + 1) % N]  # Periodic boundary condition\n",
    "        result[i] += delta * x[(i - 1) % N]  # Periodic boundary condition\n",
    "        result[i] += m ** 2 * delta * x[i] \n",
    "    return result"
   ]
  },
  {
   "cell_type": "code",
   "execution_count": 24,
   "metadata": {},
   "outputs": [],
   "source": [
    "# Entering input parameters from question\n",
    "N = 50\n",
    "x0 = np.zeros(N)\n",
    "I = np.eye(N)\n",
    "\n",
    "# Generate the given matrix A\n",
    "A_ij = mat_A_ij(x0)\n",
    "A_inv = mylibrary.conjugate_inverse(mat_A_ij, I, x0)"
   ]
  },
  {
   "cell_type": "code",
   "execution_count": 34,
   "metadata": {},
   "outputs": [
    {
     "data": {
      "image/png": "[encoded data removed]",
      "text/plain": [
       "<Figure size 800x600 with 2 Axes>"
      ]
     },
     "metadata": {},
     "output_type": "display_data"
    }
   ],
   "source": [
    "# Plot the inverse matrix\n",
    "plt.figure(figsize=(8, 6))\n",
    "plt.imshow(A_inv, cmap='viridis')\n",
    "plt.colorbar(label='Element Value')\n",
    "plt.title('Inverse Matrix values')\n",
    "plt.xlabel('Column Index')\n",
    "plt.ylabel('Row Index')\n",
    "plt.show()"
   ]
  },
  {
   "cell_type": "code",
   "execution_count": 43,
   "metadata": {},
   "outputs": [
    {
     "data": {
      "image/png": "[encoded data removed]",
      "text/plain": [
       "<Figure size 600x400 with 1 Axes>"
      ]
     },
     "metadata": {},
     "output_type": "display_data"
    }
   ],
   "source": [
    "# mesh for plotting\n",
    "x = np.arange(N)\n",
    "y = np.arange(N)\n",
    "X, Y = np.meshgrid(x, y)\n",
    "\n",
    "# creating a random array for conjugate gradient method\n",
    "R = np.random.rand(N)\n",
    "\n",
    "# conjugate gradient solution while recording data for iterations\n",
    "x, residue_norms, iter_count = mylibrary.conjugate_on_fly(mat_A_ij, R, x0)\n",
    "\n",
    "# Plotting residue versus iteration nos.\n",
    "plt.figure(figsize=(6, 4))\n",
    "plt.plot(residue_norms)\n",
    "plt.xlabel('Iterations')\n",
    "plt.ylabel('Residue')\n",
    "plt.title('Residue as function of iterations')\n",
    "plt.grid()\n",
    "\n",
    "plt.show()"
   ]
  }
 ],
 "metadata": {
  "kernelspec": {
   "display_name": "Python 3",
   "language": "python",
   "name": "python3"
  },
  "language_info": {
   "codemirror_mode": {
    "name": "ipython",
    "version": 3
   },
   "file_extension": ".py",
   "mimetype": "text/x-python",
   "name": "python",
   "nbconvert_exporter": "python",
   "pygments_lexer": "ipython3",
   "version": "3.11.2"
  }
 },
 "nbformat": 4,
 "nbformat_minor": 2
}
