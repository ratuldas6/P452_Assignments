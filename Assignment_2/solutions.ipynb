{
 "cells": [
  {
   "cell_type": "code",
   "execution_count": 1,
   "metadata": {},
   "outputs": [],
   "source": [
    "import os\n",
    "import sys\n",
    "\n",
    "sys.path.insert(1, os.getcwd().replace('\\\\Assignment_2', ''))\n",
    "\n",
    "import math\n",
    "import mylibrary\n",
    "import numpy as np\n",
    "import matplotlib.pyplot as plt\n",
    "from mpl_toolkits.mplot3d import Axes3D"
   ]
  },
  {
   "cell_type": "markdown",
   "metadata": {},
   "source": [
    "# Question 1"
   ]
  },
  {
   "cell_type": "code",
   "execution_count": 3,
   "metadata": {},
   "outputs": [],
   "source": [
    "C = np.array([[4.0, -1.0, 0.0, -1.0, 0.0, 0.0],\n",
    "     [-1.0, 4.0, -1.0, 0.0, -1.0, 0.0],\n",
    "     [0.0, -1.0, 4.0, 0.0, 0.0, -1.0],\n",
    "     [-1.0, 0.0, 0.0, 4.0, -1.0, 0.0],\n",
    "     [0.0, -1.0, 0.0, -1.0, 4.0, -1.0],\n",
    "     [0.0, 0.0, -1.0, 0.0, -1.0, 4.0]])\n",
    "b = np.array([2.0, 1.0, 2.0, 2.0, 1.0, 2.0])"
   ]
  },
  {
   "cell_type": "markdown",
   "metadata": {},
   "source": [
    "We check using a function if the matrix is symmetric"
   ]
  },
  {
   "cell_type": "code",
   "execution_count": 4,
   "metadata": {},
   "outputs": [
    {
     "name": "stdout",
     "output_type": "stream",
     "text": [
      "Yes, the matrix is symmetric\n"
     ]
    }
   ],
   "source": [
    "answer = mylibrary.is_symmetric(C)\n",
    "\n",
    "if answer == True:\n",
    "    print(\"Yes, the matrix is symmetric\")\n",
    "else:\n",
    "    print(\"No, matrix is not symmetric\")"
   ]
  },
  {
   "cell_type": "markdown",
   "metadata": {},
   "source": [
    "First, we shall solve using Cholesky decomposition"
   ]
  },
  {
   "cell_type": "code",
   "execution_count": 34,
   "metadata": {},
   "outputs": [
    {
     "name": "stdout",
     "output_type": "stream",
     "text": [
      "Solution using Cholesky decomposition is: \n",
      "x_1 = 1.0\n",
      "x_2 = 0.9999999999999999\n",
      "x_3 = 1.0\n",
      "x_4 = 1.0\n",
      "x_5 = 1.0\n",
      "x_6 = 1.0\n"
     ]
    }
   ],
   "source": [
    "L = mylibrary.choleskydecomp(C)\n",
    "L_T = mylibrary.transpose(L)\n",
    "cholesky_result = mylibrary.solveCholesky(L, L_T, b)\n",
    "\n",
    "print(\"Solution using Cholesky decomposition is: \")\n",
    "print(\"x_1 = \" + str(cholesky_result[0]))\n",
    "print(\"x_2 = \" + str(cholesky_result[1]))\n",
    "print(\"x_3 = \" + str(cholesky_result[2]))\n",
    "print(\"x_4 = \" + str(cholesky_result[3]))\n",
    "print(\"x_5 = \" + str(cholesky_result[4]))\n",
    "print(\"x_6 = \" + str(cholesky_result[5]))"
   ]
  },
  {
   "cell_type": "markdown",
   "metadata": {},
   "source": [
    "Now, we solve with Gauss-Seidel"
   ]
  },
  {
   "cell_type": "code",
   "execution_count": 35,
   "metadata": {},
   "outputs": [
    {
     "name": "stdout",
     "output_type": "stream",
     "text": [
      "Solution using Gauss-Seidel is: \n",
      "x_1 = 0.9999994721618015\n",
      "x_2 = 0.999999549461916\n",
      "x_3 = 0.9999998077208454\n",
      "x_4 = 0.9999996814214656\n",
      "x_5 = 0.9999997280762118\n",
      "x_6 = 0.9999996814214656\n"
     ]
    }
   ],
   "source": [
    "tol = 0.000001\n",
    "gauss_seidel_result = mylibrary.gauss_seidel(C, b, tol)\n",
    "\n",
    "print(\"Solution using Gauss-Seidel is: \")\n",
    "\n",
    "print(\"x_1 = \" + str(gauss_seidel_result[0]))\n",
    "print(\"x_2 = \" + str(gauss_seidel_result[1]))\n",
    "print(\"x_3 = \" + str(gauss_seidel_result[2]))\n",
    "print(\"x_4 = \" + str(gauss_seidel_result[3]))\n",
    "print(\"x_5 = \" + str(gauss_seidel_result[4]))\n",
    "print(\"x_6 = \" + str(gauss_seidel_result[5]))"
   ]
  },
  {
   "cell_type": "markdown",
   "metadata": {},
   "source": [
    "# Question 2"
   ]
  },
  {
   "cell_type": "code",
   "execution_count": 19,
   "metadata": {},
   "outputs": [],
   "source": [
    "C = np.array([[0., 4., 2., 0., 1.],\n",
    "              [4., 0., 4., 10., 1.],\n",
    "              [2., 5., 1., 3., 13.],\n",
    "              [11., 3., 0., 1., 2.],\n",
    "              [3., 2., 7., 1., 0.]])\n",
    "b = np.array([20, 15, 92, 51, 15])"
   ]
  },
  {
   "cell_type": "markdown",
   "metadata": {},
   "source": [
    "First, we solve the system using Gauss-Jordan elimination:"
   ]
  },
  {
   "cell_type": "code",
   "execution_count": 22,
   "metadata": {},
   "outputs": [
    {
     "name": "stdout",
     "output_type": "stream",
     "text": [
      "Solution using Gauss-Jordan elimination is: \n",
      "x_1 = 2.674602051644853\n",
      "x_2 = 3.7118853908737197\n",
      "x_3 = -0.053307392996109725\n",
      "x_4 = -0.07442518570923262\n",
      "x_5 = 5.259073222497346\n"
     ]
    }
   ],
   "source": [
    "gj_result = mylibrary.gauss_jordan(C, b)\n",
    "\n",
    "print(\"Solution using Gauss-Jordan elimination is: \")\n",
    "print(\"x_1 = \" + str(gj_result[0]))\n",
    "print(\"x_2 = \" + str(gj_result[1]))\n",
    "print(\"x_3 = \" + str(gj_result[2]))\n",
    "print(\"x_4 = \" + str(gj_result[3]))\n",
    "print(\"x_5 = \" + str(gj_result[4]))"
   ]
  },
  {
   "cell_type": "markdown",
   "metadata": {},
   "source": [
    "Now, we use LU factorisation,"
   ]
  },
  {
   "cell_type": "code",
   "execution_count": 23,
   "metadata": {},
   "outputs": [
    {
     "name": "stdout",
     "output_type": "stream",
     "text": [
      "Solution using Gauss-Jordan elimination is: \n",
      "x_1 = 2.6746020516448534\n",
      "x_2 = 3.711885390873718\n",
      "x_3 = -0.053307392996110266\n",
      "x_4 = -0.0744251857092321\n",
      "x_5 = 5.259073222497345\n"
     ]
    }
   ],
   "source": [
    "C = np.array([[0., 4., 2., 0., 1.],\n",
    "              [4., 0., 4., 10., 1.],\n",
    "              [2., 5., 1., 3., 13.],\n",
    "              [11., 3., 0., 1., 2.],\n",
    "              [3., 2., 7., 1., 0.]])\n",
    "b = np.array([20, 15, 92, 51, 15])\n",
    "\n",
    "L, U, P = mylibrary.lu_factorization(C)\n",
    "y = mylibrary.forward_substitution(L, np.dot(P, b))\n",
    "lu_result = mylibrary.backward_substitution(U, y)\n",
    "\n",
    "print(\"Solution using Gauss-Jordan elimination is: \")\n",
    "print(\"x_1 = \" + str(lu_result[0]))\n",
    "print(\"x_2 = \" + str(lu_result[1]))\n",
    "print(\"x_3 = \" + str(lu_result[2]))\n",
    "print(\"x_4 = \" + str(lu_result[3]))\n",
    "print(\"x_5 = \" + str(lu_result[4]))"
   ]
  },
  {
   "cell_type": "markdown",
   "metadata": {},
   "source": [
    "# Question 3"
   ]
  },
  {
   "cell_type": "code",
   "execution_count": 24,
   "metadata": {},
   "outputs": [],
   "source": [
    "C = np.array([[2.,  -3.,    0.,  0.,   0.,  0.],\n",
    "              [-1.,  4.,   -1.,  0.,   -1.,  0.],\n",
    "              [0.,   -1.,  4.,   0.,   0.,   -1.],\n",
    "              [0.,   0.,   0.,   2.,   -3.,  0.],\n",
    "              [0.,   -1.,  0.,   -1.,  4.,   -1.],\n",
    "              [0.,   0.,   -1.,  0.,   -1.,  4.]])\n",
    "b = np.array([-5/3, 2/3, 3, -4/3, -1/3, 5/3])"
   ]
  },
  {
   "cell_type": "code",
   "execution_count": 25,
   "metadata": {},
   "outputs": [
    {
     "name": "stdout",
     "output_type": "stream",
     "text": [
      "Solution using the Conjugate Gradient method is: \n",
      "x_1 = -0.3099064905903713\n",
      "x_2 = 0.3491048451172753\n",
      "x_3 = 1.0058007232326789\n",
      "x_4 = -0.618692666184239\n",
      "x_5 = 0.02099844460052676\n",
      "x_6 = 0.6718939918022926\n"
     ]
    }
   ],
   "source": [
    "# Entering a guess vector\n",
    "x0 = [1, 1, 1, 1, 1, 1]\n",
    "\n",
    "cg_result = mylibrary.conjugate_gradient(C, b, x0)\n",
    "\n",
    "print(\"Solution using the Conjugate Gradient method is: \")\n",
    "print(\"x_1 = \" + str(cg_result[0]))\n",
    "print(\"x_2 = \" + str(cg_result[1]))\n",
    "print(\"x_3 = \" + str(cg_result[2]))\n",
    "print(\"x_4 = \" + str(cg_result[3]))\n",
    "print(\"x_5 = \" + str(cg_result[4]))\n",
    "print(\"x_6 = \" + str(cg_result[5]))"
   ]
  },
  {
   "cell_type": "code",
   "execution_count": 26,
   "metadata": {},
   "outputs": [
    {
     "name": "stdout",
     "output_type": "stream",
     "text": [
      "The inverse of the solution matrix is:\n",
      "[2.0, -3.0, 0.0, 0.0, 0.0, 0.0]\n",
      "[-1.0, 4.0, -1.0, 0.0, -1.0, 0.0]\n",
      "[0.0, -1.0, 4.0, 0.0, 0.0, -1.0]\n",
      "[0.0, 0.0, 0.0, 2.0, -3.0, 0.0]\n",
      "[0.0, -1.0, 0.0, -1.0, 4.0, -1.0]\n",
      "[0.0, 0.0, -1.0, 0.0, -1.0, 4.0]\n",
      "i.e., the same as the coefficient matrix\n"
     ]
    }
   ],
   "source": [
    "# Checking solution using inverse\n",
    "for i in range(len(C)):\n",
    "    I_i = np.eye(len(C))[:, i]\n",
    "    i_col1 = mylibrary.conjugate_gradient(C, I_i, x0, tol=0.0001)\n",
    "    np.append(C, i_col1)\n",
    "\n",
    "A_inv_transpose = np.column_stack(C)\n",
    "A_inv = mylibrary.transpose(A_inv_transpose)\n",
    "\n",
    "print(\"The inverse of the solution matrix is:\")\n",
    "for line in A_inv:\n",
    "    print(line)\n",
    "\n",
    "print(\"i.e., the same as the coefficient matrix\")"
   ]
  },
  {
   "cell_type": "markdown",
   "metadata": {},
   "source": [
    "# Question 4"
   ]
  },
  {
   "cell_type": "code",
   "execution_count": 13,
   "metadata": {},
   "outputs": [],
   "source": [
    "def A_ij(x):\n",
    "    m = 0.2\n",
    "    N = len(x)\n",
    "    delta = 1.0 / N\n",
    "    result = np.zeros_like(x)\n",
    "    for i in range(N):\n",
    "        result[i] += (delta + m) * x[i]\n",
    "        result[i] -= 2 * delta * x[i]\n",
    "        result[i] += delta * x[(i + 1) % N]  # Periodic boundary condition\n",
    "        result[i] += delta * x[(i - 1) % N]  # Periodic boundary condition\n",
    "        result[i] += m ** 2 * delta * x[i] \n",
    "    return result"
   ]
  },
  {
   "cell_type": "code",
   "execution_count": 14,
   "metadata": {},
   "outputs": [
    {
     "ename": "AttributeError",
     "evalue": "module 'mylibrary' has no attribute 'matrix'",
     "output_type": "error",
     "traceback": [
      "\u001b[1;31m---------------------------------------------------------------------------\u001b[0m",
      "\u001b[1;31mAttributeError\u001b[0m                            Traceback (most recent call last)",
      "Cell \u001b[1;32mIn[14], line 7\u001b[0m\n\u001b[0;32m      4\u001b[0m I \u001b[38;5;241m=\u001b[39m np\u001b[38;5;241m.\u001b[39meye(N)\n\u001b[0;32m      6\u001b[0m \u001b[38;5;66;03m# Generate the given matrix A\u001b[39;00m\n\u001b[1;32m----> 7\u001b[0m A_ij \u001b[38;5;241m=\u001b[39m \u001b[43mmylibrary\u001b[49m\u001b[38;5;241;43m.\u001b[39;49m\u001b[43mmatrix\u001b[49m(x0)\n",
      "\u001b[1;31mAttributeError\u001b[0m: module 'mylibrary' has no attribute 'matrix'"
     ]
    }
   ],
   "source": [
    "# Entering input parameters from question\n",
    "N = 50\n",
    "x0 = np.zeros(N)\n",
    "I = np.eye(N)\n",
    "\n",
    "# Generate the given matrix A\n",
    "A_ij = mylibrary.matrix(x0)"
   ]
  },
  {
   "cell_type": "code",
   "execution_count": 11,
   "metadata": {},
   "outputs": [
    {
     "ename": "TypeError",
     "evalue": "'numpy.ndarray' object is not callable",
     "output_type": "error",
     "traceback": [
      "\u001b[1;31m---------------------------------------------------------------------------\u001b[0m",
      "\u001b[1;31mTypeError\u001b[0m                                 Traceback (most recent call last)",
      "Cell \u001b[1;32mIn[11], line 1\u001b[0m\n\u001b[1;32m----> 1\u001b[0m A_inv \u001b[38;5;241m=\u001b[39m \u001b[43mmylibrary\u001b[49m\u001b[38;5;241;43m.\u001b[39;49m\u001b[43mconjugate_inverse\u001b[49m\u001b[43m(\u001b[49m\u001b[43mA_ij\u001b[49m\u001b[43m,\u001b[49m\u001b[43m \u001b[49m\u001b[43mI\u001b[49m\u001b[43m,\u001b[49m\u001b[43m \u001b[49m\u001b[43mx0\u001b[49m\u001b[43m)\u001b[49m\n",
      "File \u001b[1;32mc:\\Users\\Ratul\\Documents\\GitHub\\P452_Assignments\\mylibrary.py:534\u001b[0m, in \u001b[0;36mconjugate_inverse\u001b[1;34m(matrix, b, x0, tol, max_iter)\u001b[0m\n\u001b[0;32m    531\u001b[0m ei[i] \u001b[38;5;241m=\u001b[39m \u001b[38;5;241m1\u001b[39m\n\u001b[0;32m    533\u001b[0m \u001b[38;5;66;03m# Solve the equation Ax = e_i using Conjugate Gradient method\u001b[39;00m\n\u001b[1;32m--> 534\u001b[0m x, _, _ \u001b[38;5;241m=\u001b[39m \u001b[43mconjugate_fly\u001b[49m\u001b[43m(\u001b[49m\u001b[43mmatrix\u001b[49m\u001b[43m,\u001b[49m\u001b[43m \u001b[49m\u001b[43mei\u001b[49m\u001b[43m,\u001b[49m\u001b[43m \u001b[49m\u001b[43mx0\u001b[49m\u001b[43m,\u001b[49m\u001b[43m \u001b[49m\u001b[43mtol\u001b[49m\u001b[43m,\u001b[49m\u001b[43m \u001b[49m\u001b[43mmax_iter\u001b[49m\u001b[43m)\u001b[49m\n\u001b[0;32m    536\u001b[0m \u001b[38;5;66;03m# Append the solution (column of the inverse matrix) to the list\u001b[39;00m\n\u001b[0;32m    537\u001b[0m inverse_columns\u001b[38;5;241m.\u001b[39mappend(x)\n",
      "File \u001b[1;32mc:\\Users\\Ratul\\Documents\\GitHub\\P452_Assignments\\mylibrary.py:492\u001b[0m, in \u001b[0;36mconjugate_fly\u001b[1;34m(matrix, b, x0, tol, max_iter)\u001b[0m\n\u001b[0;32m    490\u001b[0m iter_count \u001b[38;5;241m=\u001b[39m \u001b[38;5;241m0\u001b[39m\n\u001b[0;32m    491\u001b[0m x \u001b[38;5;241m=\u001b[39m x0\u001b[38;5;241m.\u001b[39mcopy()  \u001b[38;5;66;03m# Initial guess\u001b[39;00m\n\u001b[1;32m--> 492\u001b[0m r \u001b[38;5;241m=\u001b[39m b \u001b[38;5;241m-\u001b[39m \u001b[43mmatrix\u001b[49m\u001b[43m(\u001b[49m\u001b[43mx\u001b[49m\u001b[43m)\u001b[49m  \u001b[38;5;66;03m# Initial residual\u001b[39;00m\n\u001b[0;32m    493\u001b[0m p \u001b[38;5;241m=\u001b[39m r\u001b[38;5;241m.\u001b[39mcopy()  \u001b[38;5;66;03m# Initial search direction\u001b[39;00m\n\u001b[0;32m    494\u001b[0m residue_norms \u001b[38;5;241m=\u001b[39m [calculate_norm(r)]  \u001b[38;5;66;03m# List to store residue norms\u001b[39;00m\n",
      "\u001b[1;31mTypeError\u001b[0m: 'numpy.ndarray' object is not callable"
     ]
    }
   ],
   "source": [
    "A_inv = mylibrary.conjugate_inverse(A_ij, I, x0)"
   ]
  }
 ],
 "metadata": {
  "kernelspec": {
   "display_name": "Python 3",
   "language": "python",
   "name": "python3"
  },
  "language_info": {
   "codemirror_mode": {
    "name": "ipython",
    "version": 3
   },
   "file_extension": ".py",
   "mimetype": "text/x-python",
   "name": "python",
   "nbconvert_exporter": "python",
   "pygments_lexer": "ipython3",
   "version": "3.11.2"
  }
 },
 "nbformat": 4,
 "nbformat_minor": 2
}
